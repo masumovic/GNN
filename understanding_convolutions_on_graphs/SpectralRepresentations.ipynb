{
  "nbformat": 4,
  "nbformat_minor": 0,
  "metadata": {
    "colab": {
      "name": "SpectralRepresentations",
      "provenance": []
    },
    "kernelspec": {
      "name": "python3",
      "display_name": "Python 3"
    },
    "language_info": {
      "name": "python"
    }
  },
  "cells": [
    {
      "cell_type": "markdown",
      "metadata": {
        "id": "nfn28IwGBH1t"
      },
      "source": [
        "Copyright 2021 Google LLC.\n",
        "\n",
        "Licensed under the Apache License, Version 2.0 (the \"License\");"
      ]
    },
    {
      "cell_type": "code",
      "metadata": {
        "cellView": "form",
        "id": "iLUuUBMzA4c6"
      },
      "source": [
        "#@title License\n",
        "# Licensed under the Apache License, Version 2.0 (the \"License\");\n",
        "# you may not use this file except in compliance with the License.\n",
        "# You may obtain a copy of the License at\n",
        "#\n",
        "# https://www.apache.org/licenses/LICENSE-2.0\n",
        "#\n",
        "# Unless required by applicable law or agreed to in writing, software\n",
        "# distributed under the License is distributed on an \"AS IS\" BASIS,\n",
        "# WITHOUT WARRANTIES OR CONDITIONS OF ANY KIND, either express or implied.\n",
        "# See the License for the specific language governing permissions and\n",
        "# limitations under the License."
      ],
      "execution_count": null,
      "outputs": []
    },
    {
      "cell_type": "markdown",
      "metadata": {
        "id": "iUztKAyWBVfG"
      },
      "source": [
        "# Spectral Representations of Natural Images\n",
        "\n",
        "This notebook will show how to extract the spectral representations of an image, and see the effect of truncation of these spectral representation to the first $m$ components."
      ]
    },
    {
      "cell_type": "markdown",
      "metadata": {
        "id": "nvpbobK8BS70"
      },
      "source": [
        "## Imports"
      ]
    },
    {
      "cell_type": "code",
      "metadata": {
        "id": "X_TngvCBTrgY"
      },
      "source": [
        "import functools\n",
        "import io\n",
        "import itertools\n",
        "import os\n",
        "\n",
        "import matplotlib.pyplot as plt\n",
        "import numpy as np\n",
        "import PIL\n",
        "import scipy.sparse\n",
        "import scipy.sparse.linalg\n",
        "from google.colab import files"
      ],
      "execution_count": 1,
      "outputs": []
    },
    {
      "cell_type": "markdown",
      "metadata": {
        "id": "s2iBT16CCZBr"
      },
      "source": [
        "## Image Upload\n",
        "Upload your images by running the cell below"
      ]
    },
    {
      "cell_type": "code",
      "metadata": {
        "colab": {
          "base_uri": "https://localhost:8080/",
          "height": 37
        },
        "id": "Vb6oTob6LkA0",
        "outputId": "aef53d44-5e18-461b-9aa5-1ee10f27be1e"
      },
      "source": [
        "imgs = files.upload()"
      ],
      "execution_count": null,
      "outputs": [
        {
          "data": {
            "text/html": [
              "\n",
              "     <input type=\"file\" id=\"files-d46612e1-8a1d-4ad4-8e30-7076702a404d\" name=\"files[]\" multiple disabled\n",
              "        style=\"border:none\" />\n",
              "     <output id=\"result-d46612e1-8a1d-4ad4-8e30-7076702a404d\">\n",
              "      Upload widget is only available when the cell has been executed in the\n",
              "      current browser session. Please rerun this cell to enable.\n",
              "      </output>\n",
              "      <script>// Copyright 2017 Google LLC\n",
              "//\n",
              "// Licensed under the Apache License, Version 2.0 (the \"License\");\n",
              "// you may not use this file except in compliance with the License.\n",
              "// You may obtain a copy of the License at\n",
              "//\n",
              "//      http://www.apache.org/licenses/LICENSE-2.0\n",
              "//\n",
              "// Unless required by applicable law or agreed to in writing, software\n",
              "// distributed under the License is distributed on an \"AS IS\" BASIS,\n",
              "// WITHOUT WARRANTIES OR CONDITIONS OF ANY KIND, either express or implied.\n",
              "// See the License for the specific language governing permissions and\n",
              "// limitations under the License.\n",
              "\n",
              "/**\n",
              " * @fileoverview Helpers for google.colab Python module.\n",
              " */\n",
              "(function(scope) {\n",
              "function span(text, styleAttributes = {}) {\n",
              "  const element = document.createElement('span');\n",
              "  element.textContent = text;\n",
              "  for (const key of Object.keys(styleAttributes)) {\n",
              "    element.style[key] = styleAttributes[key];\n",
              "  }\n",
              "  return element;\n",
              "}\n",
              "\n",
              "// Max number of bytes which will be uploaded at a time.\n",
              "const MAX_PAYLOAD_SIZE = 100 * 1024;\n",
              "\n",
              "function _uploadFiles(inputId, outputId) {\n",
              "  const steps = uploadFilesStep(inputId, outputId);\n",
              "  const outputElement = document.getElementById(outputId);\n",
              "  // Cache steps on the outputElement to make it available for the next call\n",
              "  // to uploadFilesContinue from Python.\n",
              "  outputElement.steps = steps;\n",
              "\n",
              "  return _uploadFilesContinue(outputId);\n",
              "}\n",
              "\n",
              "// This is roughly an async generator (not supported in the browser yet),\n",
              "// where there are multiple asynchronous steps and the Python side is going\n",
              "// to poll for completion of each step.\n",
              "// This uses a Promise to block the python side on completion of each step,\n",
              "// then passes the result of the previous step as the input to the next step.\n",
              "function _uploadFilesContinue(outputId) {\n",
              "  const outputElement = document.getElementById(outputId);\n",
              "  const steps = outputElement.steps;\n",
              "\n",
              "  const next = steps.next(outputElement.lastPromiseValue);\n",
              "  return Promise.resolve(next.value.promise).then((value) => {\n",
              "    // Cache the last promise value to make it available to the next\n",
              "    // step of the generator.\n",
              "    outputElement.lastPromiseValue = value;\n",
              "    return next.value.response;\n",
              "  });\n",
              "}\n",
              "\n",
              "/**\n",
              " * Generator function which is called between each async step of the upload\n",
              " * process.\n",
              " * @param {string} inputId Element ID of the input file picker element.\n",
              " * @param {string} outputId Element ID of the output display.\n",
              " * @return {!Iterable<!Object>} Iterable of next steps.\n",
              " */\n",
              "function* uploadFilesStep(inputId, outputId) {\n",
              "  const inputElement = document.getElementById(inputId);\n",
              "  inputElement.disabled = false;\n",
              "\n",
              "  const outputElement = document.getElementById(outputId);\n",
              "  outputElement.innerHTML = '';\n",
              "\n",
              "  const pickedPromise = new Promise((resolve) => {\n",
              "    inputElement.addEventListener('change', (e) => {\n",
              "      resolve(e.target.files);\n",
              "    });\n",
              "  });\n",
              "\n",
              "  const cancel = document.createElement('button');\n",
              "  inputElement.parentElement.appendChild(cancel);\n",
              "  cancel.textContent = 'Cancel upload';\n",
              "  const cancelPromise = new Promise((resolve) => {\n",
              "    cancel.onclick = () => {\n",
              "      resolve(null);\n",
              "    };\n",
              "  });\n",
              "\n",
              "  // Wait for the user to pick the files.\n",
              "  const files = yield {\n",
              "    promise: Promise.race([pickedPromise, cancelPromise]),\n",
              "    response: {\n",
              "      action: 'starting',\n",
              "    }\n",
              "  };\n",
              "\n",
              "  cancel.remove();\n",
              "\n",
              "  // Disable the input element since further picks are not allowed.\n",
              "  inputElement.disabled = true;\n",
              "\n",
              "  if (!files) {\n",
              "    return {\n",
              "      response: {\n",
              "        action: 'complete',\n",
              "      }\n",
              "    };\n",
              "  }\n",
              "\n",
              "  for (const file of files) {\n",
              "    const li = document.createElement('li');\n",
              "    li.append(span(file.name, {fontWeight: 'bold'}));\n",
              "    li.append(span(\n",
              "        `(${file.type || 'n/a'}) - ${file.size} bytes, ` +\n",
              "        `last modified: ${\n",
              "            file.lastModifiedDate ? file.lastModifiedDate.toLocaleDateString() :\n",
              "                                    'n/a'} - `));\n",
              "    const percent = span('0% done');\n",
              "    li.appendChild(percent);\n",
              "\n",
              "    outputElement.appendChild(li);\n",
              "\n",
              "    const fileDataPromise = new Promise((resolve) => {\n",
              "      const reader = new FileReader();\n",
              "      reader.onload = (e) => {\n",
              "        resolve(e.target.result);\n",
              "      };\n",
              "      reader.readAsArrayBuffer(file);\n",
              "    });\n",
              "    // Wait for the data to be ready.\n",
              "    let fileData = yield {\n",
              "      promise: fileDataPromise,\n",
              "      response: {\n",
              "        action: 'continue',\n",
              "      }\n",
              "    };\n",
              "\n",
              "    // Use a chunked sending to avoid message size limits. See b/62115660.\n",
              "    let position = 0;\n",
              "    do {\n",
              "      const length = Math.min(fileData.byteLength - position, MAX_PAYLOAD_SIZE);\n",
              "      const chunk = new Uint8Array(fileData, position, length);\n",
              "      position += length;\n",
              "\n",
              "      const base64 = btoa(String.fromCharCode.apply(null, chunk));\n",
              "      yield {\n",
              "        response: {\n",
              "          action: 'append',\n",
              "          file: file.name,\n",
              "          data: base64,\n",
              "        },\n",
              "      };\n",
              "\n",
              "      let percentDone = fileData.byteLength === 0 ?\n",
              "          100 :\n",
              "          Math.round((position / fileData.byteLength) * 100);\n",
              "      percent.textContent = `${percentDone}% done`;\n",
              "\n",
              "    } while (position < fileData.byteLength);\n",
              "  }\n",
              "\n",
              "  // All done.\n",
              "  yield {\n",
              "    response: {\n",
              "      action: 'complete',\n",
              "    }\n",
              "  };\n",
              "}\n",
              "\n",
              "scope.google = scope.google || {};\n",
              "scope.google.colab = scope.google.colab || {};\n",
              "scope.google.colab._files = {\n",
              "  _uploadFiles,\n",
              "  _uploadFilesContinue,\n",
              "};\n",
              "})(self);\n",
              "</script> "
            ],
            "text/plain": [
              "<IPython.core.display.HTML object>"
            ]
          },
          "metadata": {},
          "output_type": "display_data"
        }
      ]
    },
    {
      "cell_type": "code",
      "metadata": {
        "id": "40OVav1KG7CQ"
      },
      "source": [
        "def open_as_array(img_bytes):\n",
        "  img_pil = PIL.Image.open(io.BytesIO(img_bytes))\n",
        "  img_pil = img_pil.resize((img_width, img_height))\n",
        "  return np.asarray(img_pil)\n",
        "\n",
        "img_name, img_bytes = list(imgs.items())[0]\n",
        "img_data = open_as_array(img_bytes)\n",
        "\n",
        "plt.axis('off')\n",
        "_ = plt.imshow(img_data)"
      ],
      "execution_count": null,
      "outputs": []
    },
    {
      "cell_type": "markdown",
      "metadata": {
        "id": "GykBAHmcERxS"
      },
      "source": [
        "We rescale images to a reasonable resolution, otherwise this would take very long. Note that we will have $h \\times w$ nodes in the resulting graph, where $h$ and $w$ are the height and width of the image."
      ]
    },
    {
      "cell_type": "code",
      "metadata": {
        "id": "aBQxlIg9Tf9g"
      },
      "source": [
        "img_width = 50\n",
        "img_height = 40"
      ],
      "execution_count": null,
      "outputs": []
    },
    {
      "cell_type": "markdown",
      "metadata": {
        "id": "l4S4Lb4aHBDM"
      },
      "source": [
        "## Helper Functions\n",
        "\n",
        "To compute the adjacency list and the Laplacian of the corresponding grid graph."
      ]
    },
    {
      "cell_type": "code",
      "metadata": {
        "id": "XkwCfv90WUPe"
      },
      "source": [
        "def get_index(x, y, img_width, img_height):\n",
        "  return y * img_width + x;"
      ],
      "execution_count": null,
      "outputs": []
    },
    {
      "cell_type": "code",
      "metadata": {
        "id": "HxjUnEipVryp"
      },
      "source": [
        "def get_neighbours(x, y, img_width, img_height):\n",
        "  neighbours_x_pos = [max(0, x - 1), x, min(x + 1, img_width - 1)]\n",
        "  neighbours_y_pos = [max(0, y - 1), y, min(y + 1, img_height - 1)]\n",
        "  neighbours = product(neighbours_x_pos, neighbours_y_pos)\n",
        "  neighbours = set(neighbours)\n",
        "  neighbours.discard((x, y))\n",
        "  return neighbours"
      ],
      "execution_count": null,
      "outputs": []
    },
    {
      "cell_type": "markdown",
      "metadata": {
        "id": "yayWUqbBHReh"
      },
      "source": [
        "By using a sparse matrix representation of the Laplacian, we save on memory significantly."
      ]
    },
    {
      "cell_type": "code",
      "metadata": {
        "id": "4jWH0jADToNm"
      },
      "source": [
        "def compute_sparse_laplacian(img_width, img_height):\n",
        "  neighbours_fn = functools.partial(get_neighbours,\n",
        "                                    img_width=img_width, img_height=img_height)\n",
        "  index_fn = functools.partial(get_index,\n",
        "                               img_width=img_width, img_height=img_height)\n",
        "\n",
        "  senders = []\n",
        "  recievers = []\n",
        "  values = []\n",
        "  for x in range(img_width):\n",
        "    for y in range(img_height):\n",
        "      pos = (x, y)\n",
        "      pos_index = index_fn(*pos)\n",
        "\n",
        "      degree = 0.\n",
        "      for neighbour in neighbours_fn(*pos):\n",
        "        neigh_index = index_fn(*neighbour)\n",
        "        senders.append(pos_index)\n",
        "        recievers.append(neigh_index)\n",
        "        values.append(-1.)\n",
        "        degree += 1.\n",
        "\n",
        "      senders.append(pos_index)\n",
        "      recievers.append(pos_index)\n",
        "      values.append(degree)\n",
        "\n",
        "  num_nodes = img_width * img_height\n",
        "  laplacian_shape = (num_nodes, num_nodes)\n",
        "  return scipy.sparse.coo_matrix((values, (senders, recievers)))"
      ],
      "execution_count": null,
      "outputs": []
    },
    {
      "cell_type": "code",
      "metadata": {
        "id": "rcyZRQ4nUyij"
      },
      "source": [
        "laplacian = compute_sparse_laplacian(img_width, img_height)"
      ],
      "execution_count": null,
      "outputs": []
    },
    {
      "cell_type": "markdown",
      "metadata": {
        "id": "TzIk8jdGHf55"
      },
      "source": [
        "After we have computed the Laplacian, we can compute its eigenvectors."
      ]
    },
    {
      "cell_type": "code",
      "metadata": {
        "id": "POx9DYb3XSxn"
      },
      "source": [
        "num_eigenvecs = 1500\n",
        "v0 = np.ones(img_width * img_height)\n",
        "eigenvals, eigenvecs = scipy.sparse.linalg.eigsh(laplacian, k=num_eigenvecs,\n",
        "                                                 which='SM', v0=v0)\n"
      ],
      "execution_count": null,
      "outputs": []
    },
    {
      "cell_type": "markdown",
      "metadata": {
        "id": "i_MtSPwnHoJR"
      },
      "source": [
        "The Laplacian is always positive semidefinite."
      ]
    },
    {
      "cell_type": "code",
      "metadata": {
        "id": "_Y4oGtoRHned"
      },
      "source": [
        "assert np.all(eigenvals >= 0)"
      ],
      "execution_count": null,
      "outputs": []
    },
    {
      "cell_type": "code",
      "metadata": {
        "id": "TPH24QKcOG4P"
      },
      "source": [
        "plt.hist(eigenvals, bins=100)\n",
        "plt.title('Histogram of Laplacian Eigenvalues')\n",
        "plt.show()"
      ],
      "execution_count": null,
      "outputs": []
    },
    {
      "cell_type": "markdown",
      "metadata": {
        "id": "8OYSSxF6J9tm"
      },
      "source": [
        "## Keeping the Top $m$ Components\n",
        "\n",
        "Once we have the eigenvectors, we can compute the (truncated) spectral representations."
      ]
    },
    {
      "cell_type": "code",
      "metadata": {
        "id": "PC_XEANoY829"
      },
      "source": [
        "def keep_first_components(img_data, num_components):\n",
        "  orig_shape = img_data.shape\n",
        "  img_reshaped = np.reshape(img_data, (-1, 3))\n",
        "  chosen_eigenvecs = eigenvecs[:, :num_components]\n",
        "  spectral_coeffs = chosen_eigenvecs.T @ img_reshaped\n",
        "  upd_img_data_reshaped = chosen_eigenvecs @ spectral_coeffs\n",
        "  return np.reshape(upd_img_data_reshaped, orig_shape).astype(int)"
      ],
      "execution_count": null,
      "outputs": []
    },
    {
      "cell_type": "code",
      "metadata": {
        "id": "y3pqgpviZNCW"
      },
      "source": [
        "plt.axis('off')\n",
        "plt.imshow(keep_first_components(img_data, 200))\n",
        "plt.savefig('test.png', bbox_inches='tight', pad_inches=0)"
      ],
      "execution_count": null,
      "outputs": []
    },
    {
      "cell_type": "markdown",
      "metadata": {
        "id": "Fi-kEUXxKLax"
      },
      "source": [
        "## Saving Results\n",
        "\n",
        "We save results to the 'processed' subdirectory."
      ]
    },
    {
      "cell_type": "code",
      "metadata": {
        "id": "Qkb6jagiNKjx"
      },
      "source": [
        "save_dir = 'processed'\n",
        "os.mkdir(save_dir)"
      ],
      "execution_count": null,
      "outputs": []
    },
    {
      "cell_type": "code",
      "metadata": {
        "id": "fy-nASjbIgvg"
      },
      "source": [
        "for img_name, img_bytes in imgs.items():\n",
        "  base_name = os.path.basename(img_name).split('.')[0]\n",
        "  img_data = open_as_array(img_name)\n",
        "\n",
        "  for num_components in [1, 2, 5, 10, 20, 100, 200, 500]:\n",
        "    upd_img_data = keep_first_components(img_data, num_components)\n",
        "    upd_img_name = f'{base_name}-{num_components}.png'\n",
        "\n",
        "    plt.axis('off')\n",
        "    plt.imshow(upd_img_data)\n",
        "    _ = plt.savefig(f'{save_dir}/{upd_img_name}', bbox_inches='tight',\n",
        "                    pad_inches=0)"
      ],
      "execution_count": null,
      "outputs": []
    },
    {
      "cell_type": "markdown",
      "metadata": {
        "id": "iTGAaqMhNOyR"
      },
      "source": [
        "You can download the images from this folder as a zipped folder by running the cells below."
      ]
    },
    {
      "cell_type": "code",
      "metadata": {
        "id": "cjO4mc-DK5p2"
      },
      "source": [
        "!zip -r processed.zip processed"
      ],
      "execution_count": null,
      "outputs": []
    },
    {
      "cell_type": "code",
      "metadata": {
        "id": "6IkOIND4LJJ1"
      },
      "source": [
        "files.download('processed.zip')"
      ],
      "execution_count": null,
      "outputs": []
    }
  ]
}